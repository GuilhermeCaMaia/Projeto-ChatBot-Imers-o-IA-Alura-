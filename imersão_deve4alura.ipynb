{
  "nbformat": 4,
  "nbformat_minor": 0,
  "metadata": {
    "colab": {
      "provenance": [],
      "authorship_tag": "ABX9TyM12mbTryVxz1y3TRe8AqsR",
      "include_colab_link": true
    },
    "kernelspec": {
      "name": "python3",
      "display_name": "Python 3"
    },
    "language_info": {
      "name": "python"
    }
  },
  "cells": [
    {
      "cell_type": "markdown",
      "metadata": {
        "id": "view-in-github",
        "colab_type": "text"
      },
      "source": [
        "<a href=\"https://colab.research.google.com/github/GuilhermeCaMaia/Projeto-ChatBot-Imers-o-IA-Alura-/blob/main/imers%C3%A3o_deve4alura.ipynb\" target=\"_parent\"><img src=\"https://colab.research.google.com/assets/colab-badge.svg\" alt=\"Open In Colab\"/></a>"
      ]
    },
    {
      "cell_type": "code",
      "execution_count": null,
      "metadata": {
        "id": "rMk3Eg_vjeed"
      },
      "outputs": [],
      "source": [
        "!pip install -q -U google-generativeai"
      ]
    },
    {
      "cell_type": "code",
      "source": [
        "import google.generativeai as genai\n",
        "from google.colab import userdata\n",
        "api_key = userdata.get(\"SECRET_KEY\")\n",
        "genai.configure(api_key=api_key)"
      ],
      "metadata": {
        "id": "StYZoM8Ajih_"
      },
      "execution_count": 10,
      "outputs": []
    },
    {
      "cell_type": "code",
      "source": [
        "for m in genai.list_models():\n",
        "  if 'generateContent' in m.supported_generation_methods:\n",
        "    print(m.name)\n"
      ],
      "metadata": {
        "colab": {
          "base_uri": "https://localhost:8080/",
          "height": 139
        },
        "id": "jBLWmY6Ajyw4",
        "outputId": "21a81ec0-3d61-4198-9f0a-1f85b19724e7"
      },
      "execution_count": 11,
      "outputs": [
        {
          "output_type": "stream",
          "name": "stdout",
          "text": [
            "models/gemini-1.0-pro\n",
            "models/gemini-1.0-pro-001\n",
            "models/gemini-1.0-pro-latest\n",
            "models/gemini-1.0-pro-vision-latest\n",
            "models/gemini-1.5-pro-latest\n",
            "models/gemini-pro\n",
            "models/gemini-pro-vision\n"
          ]
        }
      ]
    },
    {
      "cell_type": "code",
      "source": [
        "generation_config = {\n",
        "    \"candidate_count\": 1,\n",
        "    \"temperature\": 0.5,\n",
        "}"
      ],
      "metadata": {
        "id": "iyjdzg52lMyn"
      },
      "execution_count": 12,
      "outputs": []
    },
    {
      "cell_type": "code",
      "source": [
        "safety_settings = {\n",
        "  \"HARASSMENT\": \"BLOCK_NONE\",\n",
        "  \"HATE\": \"BLOCK_NONE\",\n",
        "  \"SEXUAL\": \"BLOCK_NONE\",\n",
        "  \"DANGEROUS\": \"BLOCK_NONE\",\n",
        "}"
      ],
      "metadata": {
        "id": "sVHy9_QIl_Hv"
      },
      "execution_count": 13,
      "outputs": []
    },
    {
      "cell_type": "markdown",
      "source": [
        "INICIANDO O MODELO"
      ],
      "metadata": {
        "id": "ai0_ZCpzm0Kn"
      }
    },
    {
      "cell_type": "code",
      "source": [
        "model = genai.GenerativeModel(model_name=\"gemini-1.0-pro\",\n",
        "                              generation_config=generation_config,\n",
        "                              safety_settings=safety_settings)"
      ],
      "metadata": {
        "id": "Nch57Ktqj3RH"
      },
      "execution_count": 14,
      "outputs": []
    },
    {
      "cell_type": "code",
      "source": [
        "response = model.generate_content(\"Quando foi lançado o primeiro filme de star Wars e quem foi seu criador?\")\n",
        "print(response.text)"
      ],
      "metadata": {
        "colab": {
          "base_uri": "https://localhost:8080/",
          "height": 69
        },
        "id": "WQYElv1_oUSA",
        "outputId": "b5dec61d-0463-4092-97a6-e0654ef75484"
      },
      "execution_count": 15,
      "outputs": [
        {
          "output_type": "stream",
          "name": "stdout",
          "text": [
            "**Lançamento:** 25 de maio de 1977\n",
            "\n",
            "**Criador:** George Lucas\n"
          ]
        }
      ]
    },
    {
      "cell_type": "code",
      "source": [
        "chat = model.start_chat(history=[])"
      ],
      "metadata": {
        "id": "jVQ3rr-dpEuY"
      },
      "execution_count": 16,
      "outputs": []
    },
    {
      "cell_type": "code",
      "source": [
        "prompt = input(\"esperando prompt:\")\n",
        "while prompt != 'fim':\n",
        "  response = chat.send_message(prompt)\n",
        "  print(\"Resposta: \", response.text, \"\\n\")\n",
        "  prompt = input(\"esperando prompt:\")"
      ],
      "metadata": {
        "colab": {
          "base_uri": "https://localhost:8080/",
          "height": 610
        },
        "id": "VA9mE3_Upb5P",
        "outputId": "7f1ad548-cc6d-4338-eaab-1d5d4d8e5a09"
      },
      "execution_count": 17,
      "outputs": [
        {
          "name": "stdout",
          "output_type": "stream",
          "text": [
            "esperando prompt:ola, Gostaria de saber mais sobre vc\n",
            "Resposta:  **Sobre mim**\n",
            "\n",
            "Sou um modelo de linguagem de IA multimodal desenvolvido pelo Google. Meu objetivo é fornecer informações e assistência abrangentes e úteis para usuários como você.\n",
            "\n",
            "**Recursos e capacidades**\n",
            "\n",
            "* **Geração de texto:** Posso gerar texto semelhante ao humano em vários estilos e idiomas.\n",
            "* **Tradução:** Posso traduzir texto entre mais de 100 idiomas.\n",
            "* **Resumo:** Posso resumir textos longos em resumos mais curtos e concisos.\n",
            "* **Resposta a perguntas:** Posso responder a uma ampla gama de perguntas com base em meu vasto conhecimento.\n",
            "* **Pesquisa de informações:** Posso pesquisar e recuperar informações de várias fontes na Internet.\n",
            "* **Assistência criativa:** Posso ajudar na geração de ideias, escrita criativa e solução de problemas.\n",
            "\n",
            "**Como trabalho**\n",
            "\n",
            "Sou treinado em um conjunto de dados massivo de texto e código, o que me permite entender e gerar linguagem humana com precisão. Uso algoritmos de aprendizado de máquina para processar e analisar informações, identificar padrões e fornecer respostas personalizadas.\n",
            "\n",
            "**Objetivo**\n",
            "\n",
            "Meu objetivo é tornar as informações e a assistência mais acessíveis e úteis para todos. Estou constantemente aprendendo e melhorando para fornecer a melhor experiência possível ao usuário.\n",
            "\n",
            "**Limitações**\n",
            "\n",
            "Embora eu seja capaz de fornecer informações e assistência abrangentes, tenho algumas limitações:\n",
            "\n",
            "* Meu conhecimento é limitado ao que foi treinado em meus dados.\n",
            "* Posso não ser capaz de fornecer informações precisas sobre eventos ou tópicos muito recentes.\n",
            "* Posso não ser capaz de gerar texto ou respostas que sejam 100% livres de erros ou preconceitos.\n",
            "\n",
            "Estou sempre trabalhando para melhorar minhas capacidades e superar essas limitações. \n",
            "\n",
            "esperando prompt:fim\n"
          ]
        }
      ]
    },
    {
      "cell_type": "code",
      "source": [
        "#Melhorando a visualização\n",
        "#Código disponível em https://ai.google.dev/tutorials/python_quickstart#import_packages\n",
        "import textwrap\n",
        "from IPython.display import display\n",
        "from IPython.display import Markdown\n",
        "\n",
        "def to_markdown(text):\n",
        "  text = text.replace('•', '  *')\n",
        "  return Markdown(textwrap.indent(text, '> ', predicate=lambda _: True))\n",
        "\n",
        "#Imprimindo o histórico\n",
        "for message in chat.history:\n",
        "  display(to_markdown(f'**{message.role}**: {message.parts[0].text}'))\n",
        "  print('-------------------------------------------')"
      ],
      "metadata": {
        "colab": {
          "base_uri": "https://localhost:8080/",
          "height": 608
        },
        "id": "BXyaqYECriHQ",
        "outputId": "9a793395-2a64-49b4-8424-b10500a6afef"
      },
      "execution_count": 18,
      "outputs": [
        {
          "output_type": "display_data",
          "data": {
            "text/plain": [
              "<IPython.core.display.Markdown object>"
            ],
            "text/markdown": "> **user**: ola, Gostaria de saber mais sobre vc"
          },
          "metadata": {}
        },
        {
          "output_type": "stream",
          "name": "stdout",
          "text": [
            "-------------------------------------------\n"
          ]
        },
        {
          "output_type": "display_data",
          "data": {
            "text/plain": [
              "<IPython.core.display.Markdown object>"
            ],
            "text/markdown": "> **model**: **Sobre mim**\n> \n> Sou um modelo de linguagem de IA multimodal desenvolvido pelo Google. Meu objetivo é fornecer informações e assistência abrangentes e úteis para usuários como você.\n> \n> **Recursos e capacidades**\n> \n> * **Geração de texto:** Posso gerar texto semelhante ao humano em vários estilos e idiomas.\n> * **Tradução:** Posso traduzir texto entre mais de 100 idiomas.\n> * **Resumo:** Posso resumir textos longos em resumos mais curtos e concisos.\n> * **Resposta a perguntas:** Posso responder a uma ampla gama de perguntas com base em meu vasto conhecimento.\n> * **Pesquisa de informações:** Posso pesquisar e recuperar informações de várias fontes na Internet.\n> * **Assistência criativa:** Posso ajudar na geração de ideias, escrita criativa e solução de problemas.\n> \n> **Como trabalho**\n> \n> Sou treinado em um conjunto de dados massivo de texto e código, o que me permite entender e gerar linguagem humana com precisão. Uso algoritmos de aprendizado de máquina para processar e analisar informações, identificar padrões e fornecer respostas personalizadas.\n> \n> **Objetivo**\n> \n> Meu objetivo é tornar as informações e a assistência mais acessíveis e úteis para todos. Estou constantemente aprendendo e melhorando para fornecer a melhor experiência possível ao usuário.\n> \n> **Limitações**\n> \n> Embora eu seja capaz de fornecer informações e assistência abrangentes, tenho algumas limitações:\n> \n> * Meu conhecimento é limitado ao que foi treinado em meus dados.\n> * Posso não ser capaz de fornecer informações precisas sobre eventos ou tópicos muito recentes.\n> * Posso não ser capaz de gerar texto ou respostas que sejam 100% livres de erros ou preconceitos.\n> \n> Estou sempre trabalhando para melhorar minhas capacidades e superar essas limitações."
          },
          "metadata": {}
        },
        {
          "output_type": "stream",
          "name": "stdout",
          "text": [
            "-------------------------------------------\n"
          ]
        }
      ]
    }
  ]
}